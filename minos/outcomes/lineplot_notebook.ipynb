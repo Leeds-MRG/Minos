{
 "cells": [
  {
   "cell_type": "code",
   "execution_count": 1,
   "metadata": {
    "collapsed": true,
    "ExecuteTime": {
     "end_time": "2023-05-20T12:56:34.133016Z",
     "start_time": "2023-05-20T12:56:32.670975Z"
    }
   },
   "outputs": [],
   "source": [
    "from make_lineplots import main as lineplot_main"
   ]
  },
  {
   "cell_type": "code",
   "execution_count": 2,
   "outputs": [
    {
     "ename": "FileNotFoundError",
     "evalue": "[Errno 2] No such file or directory: '/Users/robertclay/minos/minos/outcomes/output/default_config/baseline'",
     "output_type": "error",
     "traceback": [
      "\u001B[0;31m---------------------------------------------------------------------------\u001B[0m",
      "\u001B[0;31mFileNotFoundError\u001B[0m                         Traceback (most recent call last)",
      "Cell \u001B[0;32mIn[2], line 9\u001B[0m\n\u001B[1;32m      7\u001B[0m v \u001B[38;5;241m=\u001B[39m \u001B[38;5;124m\"\u001B[39m\u001B[38;5;124mSF_12\u001B[39m\u001B[38;5;124m\"\u001B[39m\n\u001B[1;32m      8\u001B[0m method \u001B[38;5;241m=\u001B[39m \u001B[38;5;124m'\u001B[39m\u001B[38;5;124mnanmean\u001B[39m\u001B[38;5;124m'\u001B[39m\n\u001B[0;32m----> 9\u001B[0m \u001B[43mlineplot_main\u001B[49m\u001B[43m(\u001B[49m\u001B[43mdirectories\u001B[49m\u001B[43m,\u001B[49m\u001B[43m \u001B[49m\u001B[43mtags\u001B[49m\u001B[43m,\u001B[49m\u001B[43m \u001B[49m\u001B[43msubset_function_strings\u001B[49m\u001B[43m,\u001B[49m\u001B[43m \u001B[49m\u001B[43mprefix\u001B[49m\u001B[43m,\u001B[49m\u001B[43m \u001B[49m\u001B[43mmode\u001B[49m\u001B[43m,\u001B[49m\u001B[43m \u001B[49m\u001B[43mref\u001B[49m\u001B[43m,\u001B[49m\u001B[43m \u001B[49m\u001B[43mmethod\u001B[49m\u001B[43m)\u001B[49m\n",
      "File \u001B[0;32m~/minos/minos/outcomes/make_lineplots.py:283\u001B[0m, in \u001B[0;36mmain\u001B[0;34m(directories, tags, subset_function_strings, prefix, mode, ref, v, method)\u001B[0m\n\u001B[1;32m    281\u001B[0m file_path \u001B[38;5;241m=\u001B[39m os\u001B[38;5;241m.\u001B[39mpath\u001B[38;5;241m.\u001B[39mabspath(os\u001B[38;5;241m.\u001B[39mpath\u001B[38;5;241m.\u001B[39mjoin(\u001B[38;5;124m'\u001B[39m\u001B[38;5;124moutput/\u001B[39m\u001B[38;5;124m'\u001B[39m, mode, directory))\n\u001B[1;32m    282\u001B[0m \u001B[38;5;66;03m# TODO needs regex here rather than every file. Keeps catching .DS_Store and my will to live.\u001B[39;00m\n\u001B[0;32m--> 283\u001B[0m latest_file_path \u001B[38;5;241m=\u001B[39m \u001B[43mfind_latest_source_file_path\u001B[49m\u001B[43m(\u001B[49m\u001B[43mfile_path\u001B[49m\u001B[43m)\u001B[49m\n\u001B[1;32m    284\u001B[0m years \u001B[38;5;241m=\u001B[39m find_MINOS_years_range(latest_file_path)\n\u001B[1;32m    286\u001B[0m \u001B[38;5;28mprint\u001B[39m(\u001B[38;5;124mf\u001B[39m\u001B[38;5;124m\"\u001B[39m\u001B[38;5;124mAggregating for source \u001B[39m\u001B[38;5;132;01m{\u001B[39;00mlatest_file_path\u001B[38;5;132;01m}\u001B[39;00m\u001B[38;5;124m, tag \u001B[39m\u001B[38;5;132;01m{\u001B[39;00mtag\u001B[38;5;132;01m}\u001B[39;00m\u001B[38;5;124m using \u001B[39m\u001B[38;5;132;01m{\u001B[39;00mmethod\u001B[38;5;241m.\u001B[39m\u001B[38;5;18m__name__\u001B[39m\u001B[38;5;132;01m}\u001B[39;00m\u001B[38;5;124m over \u001B[39m\u001B[38;5;132;01m{\u001B[39;00mv\u001B[38;5;132;01m}\u001B[39;00m\u001B[38;5;124m\"\u001B[39m)\n",
      "File \u001B[0;32m~/minos/minos/outcomes/make_lineplots.py:169\u001B[0m, in \u001B[0;36mfind_latest_source_file_path\u001B[0;34m(file_path)\u001B[0m\n\u001B[1;32m    157\u001B[0m \u001B[38;5;28;01mdef\u001B[39;00m \u001B[38;5;21mfind_latest_source_file_path\u001B[39m(file_path):\n\u001B[1;32m    158\u001B[0m \u001B[38;5;250m    \u001B[39m\u001B[38;5;124;03m\"\"\" A file path can have multiple runs of data that are sorted by time Y_m_d_H_M_S. Find the lastest one.\u001B[39;00m\n\u001B[1;32m    159\u001B[0m \n\u001B[1;32m    160\u001B[0m \u001B[38;5;124;03m    Parameters\u001B[39;00m\n\u001B[0;32m   (...)\u001B[0m\n\u001B[1;32m    167\u001B[0m \u001B[38;5;124;03m        Returns the latest path in all_file_paths chronologically.\u001B[39;00m\n\u001B[1;32m    168\u001B[0m \u001B[38;5;124;03m    \"\"\"\u001B[39;00m\n\u001B[0;32m--> 169\u001B[0m     all_file_paths \u001B[38;5;241m=\u001B[39m \u001B[43mos\u001B[49m\u001B[38;5;241;43m.\u001B[39;49m\u001B[43mlistdir\u001B[49m\u001B[43m(\u001B[49m\u001B[43mfile_path\u001B[49m\u001B[43m)\u001B[49m\n\u001B[1;32m    170\u001B[0m     \u001B[38;5;28;01mif\u001B[39;00m \u001B[38;5;28mlen\u001B[39m(all_file_paths) \u001B[38;5;241m>\u001B[39m \u001B[38;5;241m1\u001B[39m:\n\u001B[1;32m    171\u001B[0m         \u001B[38;5;66;03m# if more than 1, select most recent datetime\u001B[39;00m\n\u001B[1;32m    172\u001B[0m         latest_file_path \u001B[38;5;241m=\u001B[39m \u001B[38;5;28mmax\u001B[39m(all_file_paths, key\u001B[38;5;241m=\u001B[39m\u001B[38;5;28;01mlambda\u001B[39;00m d: datetime\u001B[38;5;241m.\u001B[39mstrptime(d, \u001B[38;5;124m\"\u001B[39m\u001B[38;5;124m%\u001B[39m\u001B[38;5;124mY_\u001B[39m\u001B[38;5;124m%\u001B[39m\u001B[38;5;124mm_\u001B[39m\u001B[38;5;132;01m%d\u001B[39;00m\u001B[38;5;124m_\u001B[39m\u001B[38;5;124m%\u001B[39m\u001B[38;5;124mH_\u001B[39m\u001B[38;5;124m%\u001B[39m\u001B[38;5;124mM_\u001B[39m\u001B[38;5;124m%\u001B[39m\u001B[38;5;124mS\u001B[39m\u001B[38;5;124m\"\u001B[39m))\n",
      "\u001B[0;31mFileNotFoundError\u001B[0m: [Errno 2] No such file or directory: '/Users/robertclay/minos/minos/outcomes/output/default_config/baseline'"
     ]
    }
   ],
   "source": [
    "directories = \"baseline,livingWageIntervention\"\n",
    "tags = \"Baseline,Living Wage Intervention\"\n",
    "subset_function_strings = \"who_below_living_wage,who_boosted\"\n",
    "prefix = \"baseline_living_wage\"\n",
    "mode = 'default_config'\n",
    "ref = \"Baseline\"\n",
    "v = \"SF_12\"\n",
    "method = 'nanmean'\n",
    "lineplot_main(directories, tags, subset_function_strings, prefix, mode, ref, method)"
   ],
   "metadata": {
    "collapsed": false,
    "ExecuteTime": {
     "end_time": "2023-05-20T12:56:34.466530Z",
     "start_time": "2023-05-20T12:56:34.137726Z"
    }
   }
  },
  {
   "cell_type": "code",
   "execution_count": null,
   "outputs": [],
   "source": [
    "directories = \"baseline,povertyLineChildUplift,livingWageIntervention\"\n",
    "tags = \"Baseline,Poverty Line Child Uplift,Living Wage Intervention\"\n",
    "subset_function_strings = \"who_below_living_wage,who_boosted,who_boosted\"\n",
    "prefix = \"baseline_living_wage_\"\n",
    "mode = 'default_config'\n",
    "ref = \"Baseline\"\n",
    "v = \"SF_12\"\n",
    "method = 'nanmean'\n",
    "#lineplot_main(directories, tags, subset_function_strings, prefix, mode, ref, method)"
   ],
   "metadata": {
    "collapsed": false
   }
  }
 ],
 "metadata": {
  "kernelspec": {
   "display_name": "Python 3",
   "language": "python",
   "name": "python3"
  },
  "language_info": {
   "codemirror_mode": {
    "name": "ipython",
    "version": 2
   },
   "file_extension": ".py",
   "mimetype": "text/x-python",
   "name": "python",
   "nbconvert_exporter": "python",
   "pygments_lexer": "ipython2",
   "version": "2.7.6"
  }
 },
 "nbformat": 4,
 "nbformat_minor": 0
}
