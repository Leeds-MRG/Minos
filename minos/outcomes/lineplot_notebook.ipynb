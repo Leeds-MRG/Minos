{
 "cells": [
  {
   "cell_type": "code",
   "execution_count": 5,
   "metadata": {
    "collapsed": true,
    "ExecuteTime": {
     "end_time": "2023-05-22T14:06:19.780170Z",
     "start_time": "2023-05-22T14:06:19.773377Z"
    }
   },
   "outputs": [],
   "source": [
    "from make_lineplots import main as lineplot_main\n",
    "from os import chdir\n",
    "chdir(\"../..\")"
   ]
  },
  {
   "cell_type": "code",
   "execution_count": 6,
   "outputs": [
    {
     "name": "stdout",
     "output_type": "stream",
     "text": [
      "Aggregating for source /Users/robertclay/minos/output/default_config/baseline/2023_05_05_12_02_10, tag Baseline using nanmean over nanmean\n",
      "Aggregating for source /Users/robertclay/minos/output/default_config/livingWageIntervention/2023_05_04_16_38_29, tag Living Wage Intervention using nanmean over nanmean\n",
      "Unexpected exception formatting exception. Falling back to standard exception\n"
     ]
    },
    {
     "name": "stderr",
     "output_type": "stream",
     "text": [
      "Traceback (most recent call last):\n",
      "  File \"/Users/robertclay/opt/anaconda3/envs/minos_conda/lib/python3.9/site-packages/pandas/core/indexes/base.py\", line 3629, in get_loc\n",
      "    ----------\n",
      "  File \"pandas/_libs/index.pyx\", line 136, in pandas._libs.index.IndexEngine.get_loc\n",
      "  File \"pandas/_libs/index.pyx\", line 163, in pandas._libs.index.IndexEngine.get_loc\n",
      "  File \"pandas/_libs/hashtable_class_helper.pxi\", line 5198, in pandas._libs.hashtable.PyObjectHashTable.get_item\n",
      "  File \"pandas/_libs/hashtable_class_helper.pxi\", line 5206, in pandas._libs.hashtable.PyObjectHashTable.get_item\n",
      "KeyError: 'nanmean'\n",
      "\n",
      "The above exception was the direct cause of the following exception:\n",
      "\n",
      "Traceback (most recent call last):\n",
      "  File \"/Users/robertclay/opt/anaconda3/envs/minos_conda/lib/python3.9/site-packages/IPython/core/interactiveshell.py\", line 3508, in run_code\n",
      "    exec(code_obj, self.user_global_ns, self.user_ns)\n",
      "  File \"/var/folders/52/_rl7rmzn49q8xh1gg3lrwx8r0000gn/T/ipykernel_23438/1021957537.py\", line 9, in <module>\n",
      "    lineplot_main(directories, tags, subset_function_strings, prefix, mode, ref, method)\n",
      "  File \"/Users/robertclay/minos/minos/outcomes/make_lineplots.py\", line 290, in main\n",
      "  File \"/Users/robertclay/minos/minos/outcomes/make_lineplots.py\", line 150, in relative_scaling\n",
      "    # get data for each year. get reference level sf12 for each year. divide all sf12 values be reference value.\n",
      "  File \"/Users/robertclay/opt/anaconda3/envs/minos_conda/lib/python3.9/site-packages/pandas/core/indexing.py\", line 961, in __getitem__\n",
      "    # if all axes were a null slice (`df.loc[:, :]`), ensure we still\n",
      "  File \"/Users/robertclay/opt/anaconda3/envs/minos_conda/lib/python3.9/site-packages/pandas/core/indexing.py\", line 1140, in _getitem_tuple\n",
      "    # valid for a collection of labels (we check their presence later)\n",
      "  File \"/Users/robertclay/opt/anaconda3/envs/minos_conda/lib/python3.9/site-packages/pandas/core/indexing.py\", line 867, in _getitem_lowerdim\n",
      "    If the key (or some element of it) is out of bounds.\n",
      "  File \"/Users/robertclay/opt/anaconda3/envs/minos_conda/lib/python3.9/site-packages/pandas/core/indexing.py\", line 1205, in _getitem_axis\n",
      "    ----------\n",
      "  File \"/Users/robertclay/opt/anaconda3/envs/minos_conda/lib/python3.9/site-packages/pandas/core/indexing.py\", line 1153, in _get_label\n",
      "    )\n",
      "  File \"/Users/robertclay/opt/anaconda3/envs/minos_conda/lib/python3.9/site-packages/pandas/core/generic.py\", line 3849, in xs\n",
      "    For compatibility with :meth:`numpy.take`. Has no effect on the\n",
      "  File \"/Users/robertclay/opt/anaconda3/envs/minos_conda/lib/python3.9/site-packages/pandas/core/frame.py\", line 3505, in __getitem__\n",
      "    >>> df1 = pd.DataFrame(data=d1)\n",
      "  File \"/Users/robertclay/opt/anaconda3/envs/minos_conda/lib/python3.9/site-packages/pandas/core/indexes/base.py\", line 3631, in get_loc\n",
      "KeyError: 'nanmean'\n",
      "\n",
      "During handling of the above exception, another exception occurred:\n",
      "\n",
      "Traceback (most recent call last):\n",
      "  File \"/Users/robertclay/opt/anaconda3/envs/minos_conda/lib/python3.9/site-packages/IPython/core/interactiveshell.py\", line 2105, in showtraceback\n",
      "    stb = self.InteractiveTB.structured_traceback(\n",
      "  File \"/Users/robertclay/opt/anaconda3/envs/minos_conda/lib/python3.9/site-packages/IPython/core/ultratb.py\", line 1396, in structured_traceback\n",
      "    return FormattedTB.structured_traceback(\n",
      "  File \"/Users/robertclay/opt/anaconda3/envs/minos_conda/lib/python3.9/site-packages/IPython/core/ultratb.py\", line 1287, in structured_traceback\n",
      "    return VerboseTB.structured_traceback(\n",
      "  File \"/Users/robertclay/opt/anaconda3/envs/minos_conda/lib/python3.9/site-packages/IPython/core/ultratb.py\", line 1140, in structured_traceback\n",
      "    formatted_exception = self.format_exception_as_a_whole(etype, evalue, etb, number_of_lines_of_context,\n",
      "  File \"/Users/robertclay/opt/anaconda3/envs/minos_conda/lib/python3.9/site-packages/IPython/core/ultratb.py\", line 1055, in format_exception_as_a_whole\n",
      "    frames.append(self.format_record(record))\n",
      "  File \"/Users/robertclay/opt/anaconda3/envs/minos_conda/lib/python3.9/site-packages/IPython/core/ultratb.py\", line 955, in format_record\n",
      "    frame_info.lines, Colors, self.has_colors, lvals\n",
      "  File \"/Users/robertclay/opt/anaconda3/envs/minos_conda/lib/python3.9/site-packages/IPython/core/ultratb.py\", line 778, in lines\n",
      "    return self._sd.lines\n",
      "  File \"/Users/robertclay/opt/anaconda3/envs/minos_conda/lib/python3.9/site-packages/stack_data/utils.py\", line 144, in cached_property_wrapper\n",
      "    value = obj.__dict__[self.func.__name__] = self.func(obj)\n",
      "  File \"/Users/robertclay/opt/anaconda3/envs/minos_conda/lib/python3.9/site-packages/stack_data/core.py\", line 734, in lines\n",
      "    pieces = self.included_pieces\n",
      "  File \"/Users/robertclay/opt/anaconda3/envs/minos_conda/lib/python3.9/site-packages/stack_data/utils.py\", line 144, in cached_property_wrapper\n",
      "    value = obj.__dict__[self.func.__name__] = self.func(obj)\n",
      "  File \"/Users/robertclay/opt/anaconda3/envs/minos_conda/lib/python3.9/site-packages/stack_data/core.py\", line 681, in included_pieces\n",
      "    pos = scope_pieces.index(self.executing_piece)\n",
      "  File \"/Users/robertclay/opt/anaconda3/envs/minos_conda/lib/python3.9/site-packages/stack_data/utils.py\", line 144, in cached_property_wrapper\n",
      "    value = obj.__dict__[self.func.__name__] = self.func(obj)\n",
      "  File \"/Users/robertclay/opt/anaconda3/envs/minos_conda/lib/python3.9/site-packages/stack_data/core.py\", line 660, in executing_piece\n",
      "    return only(\n",
      "  File \"/Users/robertclay/opt/anaconda3/envs/minos_conda/lib/python3.9/site-packages/executing/executing.py\", line 190, in only\n",
      "    raise NotOneValueFound('Expected one value, found 0')\n",
      "executing.executing.NotOneValueFound: Expected one value, found 0\n"
     ]
    }
   ],
   "source": [
    "directories = \"baseline,livingWageIntervention\"\n",
    "tags = \"Baseline,Living Wage Intervention\"\n",
    "subset_function_strings = \"who_below_living_wage,who_boosted\"\n",
    "prefix = \"baseline_living_wage\"\n",
    "mode = 'default_config'\n",
    "ref = \"Baseline\"\n",
    "v = \"SF_12\"\n",
    "method = 'nanmean'\n",
    "lineplot_main(directories, tags, subset_function_strings, prefix, mode, ref, method)"
   ],
   "metadata": {
    "collapsed": false,
    "ExecuteTime": {
     "end_time": "2023-05-22T14:07:08.801758Z",
     "start_time": "2023-05-22T14:06:19.792262Z"
    }
   }
  },
  {
   "cell_type": "code",
   "execution_count": null,
   "outputs": [],
   "source": [
    "directories = \"baseline,povertyLineChildUplift,livingWageIntervention\"\n",
    "tags = \"Baseline,Poverty Line Child Uplift,Living Wage Intervention\"\n",
    "subset_function_strings = \"who_below_living_wage,who_boosted,who_boosted\"\n",
    "prefix = \"baseline_living_wage_\"\n",
    "mode = 'default_config'\n",
    "ref = \"Baseline\"\n",
    "v = \"SF_12\"\n",
    "method = 'nanmean'\n",
    "#lineplot_main(directories, tags, subset_function_strings, prefix, mode, ref, method)"
   ],
   "metadata": {
    "collapsed": false,
    "ExecuteTime": {
     "start_time": "2023-05-22T14:07:08.800945Z"
    }
   }
  }
 ],
 "metadata": {
  "kernelspec": {
   "display_name": "Python 3",
   "language": "python",
   "name": "python3"
  },
  "language_info": {
   "codemirror_mode": {
    "name": "ipython",
    "version": 2
   },
   "file_extension": ".py",
   "mimetype": "text/x-python",
   "name": "python",
   "nbconvert_exporter": "python",
   "pygments_lexer": "ipython2",
   "version": "2.7.6"
  }
 },
 "nbformat": 4,
 "nbformat_minor": 0
}
